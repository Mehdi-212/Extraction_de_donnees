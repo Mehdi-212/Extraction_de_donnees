{
 "cells": [
  {
   "cell_type": "markdown",
   "metadata": {},
   "source": [
    "## API"
   ]
  },
  {
   "cell_type": "code",
   "execution_count": 2,
   "metadata": {},
   "outputs": [
    {
     "name": "stdout",
     "output_type": "stream",
     "text": [
      "Données météo pour Paris exportées avec succès.\n"
     ]
    }
   ],
   "source": [
    "import requests\n",
    "import pandas as pd\n",
    "\n",
    " \n",
    "api_key = \"API_KEY\"\n",
    "\n",
    "city = \"Paris\"\n",
    "url = f\"http://api.openweathermap.org/data/2.5/weather?q={city}&appid={api_key}\"\n",
    "\n",
    "response = requests.get(url)\n",
    "\n",
    "if response.status_code == 200:\n",
    "    data = response.json()  \n",
    "    \n",
    "    weather_data = {\n",
    "        \"City\": data['name'],\n",
    "        \"Weather\": data['weather'][0]['description'],\n",
    "        \"Temperature (°C)\": data['main']['temp'] - 273.15, \n",
    "        \"Humidity (%)\": data['main']['humidity'],\n",
    "        \"Pressure (hPa)\": data['main']['pressure']\n",
    "    }\n",
    "    \n",
    "    df_weather = pd.DataFrame([weather_data])\n",
    "    \n",
    "    df_weather.to_csv('data/weather_data.csv', index=False)\n",
    "    \n",
    "    print(\"Données météo pour Paris exportées avec succès.\")\n",
    "else:\n",
    "    print(\"Erreur lors de la requête :\", response.status_code)\n"
   ]
  },
  {
   "cell_type": "code",
   "execution_count": null,
   "metadata": {},
   "outputs": [],
   "source": []
  }
 ],
 "metadata": {
  "kernelspec": {
   "display_name": "Env_dev",
   "language": "python",
   "name": "python3"
  },
  "language_info": {
   "codemirror_mode": {
    "name": "ipython",
    "version": 3
   },
   "file_extension": ".py",
   "mimetype": "text/x-python",
   "name": "python",
   "nbconvert_exporter": "python",
   "pygments_lexer": "ipython3",
   "version": "3.12.4"
  }
 },
 "nbformat": 4,
 "nbformat_minor": 2
}
